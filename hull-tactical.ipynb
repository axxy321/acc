{
 "cells": [
  {
   "cell_type": "code",
   "execution_count": 1,
   "id": "78b6e31b",
   "metadata": {
    "execution": {
     "iopub.execute_input": "2025-09-22T10:50:09.647780Z",
     "iopub.status.busy": "2025-09-22T10:50:09.647459Z",
     "iopub.status.idle": "2025-09-22T10:50:14.333199Z",
     "shell.execute_reply": "2025-09-22T10:50:14.331939Z"
    },
    "papermill": {
     "duration": 4.692109,
     "end_time": "2025-09-22T10:50:14.335464",
     "exception": false,
     "start_time": "2025-09-22T10:50:09.643355",
     "status": "completed"
    },
    "tags": []
   },
   "outputs": [],
   "source": [
    "import os\n",
    "import numpy as np\n",
    "import pandas as pd\n",
    "\n",
    "from sklearn.pipeline import Pipeline\n",
    "from sklearn.impute import SimpleImputer\n",
    "from sklearn.preprocessing import StandardScaler\n",
    "from sklearn.linear_model import Ridge, ElasticNet\n",
    "from sklearn.ensemble import RandomForestRegressor\n",
    "from sklearn.metrics import mean_squared_error, mean_absolute_error\n",
    "\n",
    "RANDOM_STATE = 42\n",
    "np.random.seed(RANDOM_STATE)\n",
    "\n",
    "INPUT_DIR = '/kaggle/input/hull-tactical-market-prediction'\n",
    "WORK_DIR = '/kaggle/working'\n",
    "\n",
    "def log(msg):\n",
    "    print(f'[LOG] {msg}')"
   ]
  },
  {
   "cell_type": "code",
   "execution_count": 2,
   "id": "8af7b8b7",
   "metadata": {
    "execution": {
     "iopub.execute_input": "2025-09-22T10:50:14.341758Z",
     "iopub.status.busy": "2025-09-22T10:50:14.341330Z",
     "iopub.status.idle": "2025-09-22T10:50:14.731219Z",
     "shell.execute_reply": "2025-09-22T10:50:14.729532Z"
    },
    "papermill": {
     "duration": 0.394711,
     "end_time": "2025-09-22T10:50:14.733261",
     "exception": false,
     "start_time": "2025-09-22T10:50:14.338550",
     "status": "completed"
    },
    "tags": []
   },
   "outputs": [
    {
     "name": "stdout",
     "output_type": "stream",
     "text": [
      "[LOG] train shape=(8990, 98), test shape=(10, 99)\n",
      "[LOG] is_scored in test? True\n"
     ]
    }
   ],
   "source": [
    "train_path = os.path.join(INPUT_DIR, 'train.csv')\n",
    "test_path  = os.path.join(INPUT_DIR, 'test.csv')\n",
    "\n",
    "train = pd.read_csv(train_path).sort_values('date_id').reset_index(drop=True)\n",
    "test  = pd.read_csv(test_path).sort_values('date_id').reset_index(drop=True)\n",
    "\n",
    "log(f'train shape={train.shape}, test shape={test.shape}')\n",
    "has_is_scored = 'is_scored' in test.columns\n",
    "log(f'is_scored in test? {has_is_scored}')"
   ]
  },
  {
   "cell_type": "code",
   "execution_count": 3,
   "id": "3c35ccc8",
   "metadata": {
    "execution": {
     "iopub.execute_input": "2025-09-22T10:50:14.739426Z",
     "iopub.status.busy": "2025-09-22T10:50:14.738995Z",
     "iopub.status.idle": "2025-09-22T10:50:14.766319Z",
     "shell.execute_reply": "2025-09-22T10:50:14.764983Z"
    },
    "papermill": {
     "duration": 0.032029,
     "end_time": "2025-09-22T10:50:14.767874",
     "exception": false,
     "start_time": "2025-09-22T10:50:14.735845",
     "status": "completed"
    },
    "tags": []
   },
   "outputs": [
    {
     "name": "stdout",
     "output_type": "stream",
     "text": [
      "[LOG] Feature count: 95\n",
      "[LOG] X_all: (8990, 95), y_all: (8990,)\n"
     ]
    }
   ],
   "source": [
    "TARGET = 'forward_returns'\n",
    "TARGETS = ['forward_returns','risk_free_rate','market_forward_excess_returns']\n",
    "\n",
    "# Strict intersection of non-target columns present in both train and test\n",
    "feature_cols = [c for c in train.columns if c in test.columns and c not in TARGETS]\n",
    "log(f'Feature count: {len(feature_cols)}')\n",
    "\n",
    "# Keep only rows with target for training\n",
    "train2 = train.dropna(subset=[TARGET]).reset_index(drop=True)\n",
    "\n",
    "X_all = train2[feature_cols]\n",
    "y_all = train2[TARGET]\n",
    "log(f'X_all: {X_all.shape}, y_all: {y_all.shape}')"
   ]
  },
  {
   "cell_type": "code",
   "execution_count": 4,
   "id": "98a17b7c",
   "metadata": {
    "execution": {
     "iopub.execute_input": "2025-09-22T10:50:14.773177Z",
     "iopub.status.busy": "2025-09-22T10:50:14.772722Z",
     "iopub.status.idle": "2025-09-22T10:51:01.244694Z",
     "shell.execute_reply": "2025-09-22T10:51:01.243672Z"
    },
    "papermill": {
     "duration": 46.478112,
     "end_time": "2025-09-22T10:51:01.248020",
     "exception": false,
     "start_time": "2025-09-22T10:50:14.769908",
     "status": "completed"
    },
    "tags": []
   },
   "outputs": [
    {
     "name": "stdout",
     "output_type": "stream",
     "text": [
      "[LOG] Split shapes -> train=(8540, 95), holdout=(450, 95)\n",
      "[LOG] Holdout RMSE/MAE: {'ridge': (0.009322029894664532, 0.006558694667787884), 'elasticnet': (0.009271981228999667, 0.0065077495709852115), 'rf': (0.009203966168133421, 0.006498452952488181)}\n",
      "[LOG] Chosen model: elasticnet\n"
     ]
    }
   ],
   "source": [
    "ridge_pipe = Pipeline(steps=[\n",
    "    ('imputer', SimpleImputer(strategy='median')),\n",
    "    ('scaler', StandardScaler(with_mean=False)),\n",
    "    ('model', Ridge(alpha=1.0, random_state=RANDOM_STATE))\n",
    "])\n",
    "\n",
    "en_pipe = Pipeline(steps=[\n",
    "    ('imputer', SimpleImputer(strategy='median')),\n",
    "    ('scaler', StandardScaler(with_mean=False)),\n",
    "    ('model', ElasticNet(alpha=1e-4, l1_ratio=0.1, random_state=RANDOM_STATE, max_iter=10000))\n",
    "])\n",
    "\n",
    "rf_pipe = Pipeline(steps=[\n",
    "    ('imputer', SimpleImputer(strategy='median')),\n",
    "    ('model', RandomForestRegressor(n_estimators=300, max_depth=8, random_state=RANDOM_STATE, n_jobs=-1))\n",
    "])\n",
    "\n",
    "#  95% train, 5% holdout\n",
    "n = len(train2)\n",
    "cut = max(1, int(n*0.95))\n",
    "Xtr, ytr = train2.iloc[:cut][feature_cols], train2.iloc[:cut][TARGET]\n",
    "Xho, yho = train2.iloc[cut:][feature_cols], train2.iloc[cut:][TARGET]\n",
    "log(f'Split shapes -> train={Xtr.shape}, holdout={Xho.shape}')\n",
    "\n",
    "\n",
    "ridge_pipe.fit(Xtr, ytr)\n",
    "en_pipe.fit(Xtr, ytr)\n",
    "rf_pipe.fit(Xtr, ytr)\n",
    "\n",
    "def rmse(y, p): \n",
    "    return np.sqrt(mean_squared_error(y, p))\n",
    "def score_model(m, Xv, yv):\n",
    "    p = m.predict(Xv)\n",
    "    return rmse(yv, p), mean_absolute_error(yv, p)\n",
    "\n",
    "scores = { \n",
    "    'ridge': score_model(ridge_pipe, Xho, yho), \n",
    "    'elasticnet': score_model(en_pipe, Xho, yho),\n",
    "    'rf': score_model(rf_pipe, Xho, yho)\n",
    "}\n",
    "log(f'Holdout RMSE/MAE: {scores}')\n",
    "\n",
    "best_model = ridge_pipe if scores['ridge'][0] <= scores['elasticnet'][0] else en_pipe\n",
    "chosen = 'ridge' if best_model is ridge_pipe else 'elasticnet'\n",
    "log(f'Chosen model: {chosen}')"
   ]
  },
  {
   "cell_type": "code",
   "execution_count": 5,
   "id": "21a3196e",
   "metadata": {
    "execution": {
     "iopub.execute_input": "2025-09-22T10:51:01.253215Z",
     "iopub.status.busy": "2025-09-22T10:51:01.252953Z",
     "iopub.status.idle": "2025-09-22T10:51:01.470879Z",
     "shell.execute_reply": "2025-09-22T10:51:01.469597Z"
    },
    "papermill": {
     "duration": 0.222148,
     "end_time": "2025-09-22T10:51:01.472388",
     "exception": false,
     "start_time": "2025-09-22T10:51:01.250240",
     "status": "completed"
    },
    "tags": []
   },
   "outputs": [
    {
     "name": "stdout",
     "output_type": "stream",
     "text": [
      "   date_id  forward_returns\n",
      "0     8980         0.002101\n",
      "1     8981         0.002599\n",
      "2     8982         0.002401\n",
      "3     8983         0.001971\n",
      "4     8984         0.003098\n",
      "Working dir files: ['submission.parquet', '__notebook__.ipynb']\n"
     ]
    }
   ],
   "source": [
    "Xtest = test[feature_cols]\n",
    "\n",
    "pred_main = best_model.predict(Xtest)\n",
    "\n",
    "other = en_pipe if best_model is ridge_pipe else ridge_pipe\n",
    "pred_other = other.predict(Xtest)\n",
    "pred = 0.6*pred_main + 0.4*pred_other\n",
    "\n",
    "submission = pd.DataFrame({\n",
    "    'date_id': test['date_id'].values,\n",
    "    'forward_returns': pred\n",
    "})\n",
    "\n",
    "if has_is_scored:\n",
    "    mask = test['is_scored'].values.astype(bool)\n",
    "    submission = submission[mask]\n",
    "\n",
    "submission.to_parquet('submission.parquet', index=False)\n",
    "\n",
    "print(submission.head())\n",
    "print('Working dir files:', os.listdir(WORK_DIR))\n"
   ]
  }
 ],
 "metadata": {
  "kaggle": {
   "accelerator": "none",
   "dataSources": [
    {
     "databundleVersionId": 13750964,
     "sourceId": 111543,
     "sourceType": "competition"
    }
   ],
   "dockerImageVersionId": 31089,
   "isGpuEnabled": false,
   "isInternetEnabled": false,
   "language": "python",
   "sourceType": "notebook"
  },
  "kernelspec": {
   "display_name": "Python 3",
   "language": "python",
   "name": "python3"
  },
  "language_info": {
   "codemirror_mode": {
    "name": "ipython",
    "version": 3
   },
   "file_extension": ".py",
   "mimetype": "text/x-python",
   "name": "python",
   "nbconvert_exporter": "python",
   "pygments_lexer": "ipython3",
   "version": "3.11.13"
  },
  "papermill": {
   "default_parameters": {},
   "duration": 59.282407,
   "end_time": "2025-09-22T10:51:02.196814",
   "environment_variables": {},
   "exception": null,
   "input_path": "__notebook__.ipynb",
   "output_path": "__notebook__.ipynb",
   "parameters": {},
   "start_time": "2025-09-22T10:50:02.914407",
   "version": "2.6.0"
  }
 },
 "nbformat": 4,
 "nbformat_minor": 5
}
