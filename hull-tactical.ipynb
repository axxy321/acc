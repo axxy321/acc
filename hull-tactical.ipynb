{
 "cells": [
  {
   "cell_type": "code",
   "execution_count": 1,
   "id": "4c40b1fd",
   "metadata": {
    "execution": {
     "iopub.execute_input": "2025-09-22T10:09:45.806920Z",
     "iopub.status.busy": "2025-09-22T10:09:45.806611Z",
     "iopub.status.idle": "2025-09-22T10:09:51.171510Z",
     "shell.execute_reply": "2025-09-22T10:09:51.170419Z"
    },
    "papermill": {
     "duration": 5.370595,
     "end_time": "2025-09-22T10:09:51.173382",
     "exception": false,
     "start_time": "2025-09-22T10:09:45.802787",
     "status": "completed"
    },
    "tags": []
   },
   "outputs": [],
   "source": [
    "import os\n",
    "import numpy as np\n",
    "import pandas as pd\n",
    "import polars as pl\n",
    "\n",
    "from sklearn.pipeline import Pipeline\n",
    "from sklearn.impute import SimpleImputer\n",
    "from sklearn.preprocessing import StandardScaler\n",
    "from sklearn.linear_model import Ridge, ElasticNet\n",
    "from sklearn.ensemble import RandomForestRegressor\n",
    "from sklearn.metrics import mean_squared_error, mean_absolute_error\n",
    "\n",
    "import kaggle_evaluation.default_inference_server\n",
    "\n",
    "RANDOM_STATE = 42\n",
    "np.random.seed(RANDOM_STATE)\n",
    "\n",
    "INPUT_DIR = '/kaggle/input/hull-tactical-market-prediction'\n",
    "TARGET = 'forward_returns'\n",
    "TARGETS = ['forward_returns','risk_free_rate','market_forward_excess_returns']\n",
    "\n",
    "def log(msg):\n",
    "    print(f'[LOG] {msg}')"
   ]
  },
  {
   "cell_type": "code",
   "execution_count": 2,
   "id": "ca4241ca",
   "metadata": {
    "execution": {
     "iopub.execute_input": "2025-09-22T10:09:51.180681Z",
     "iopub.status.busy": "2025-09-22T10:09:51.180098Z",
     "iopub.status.idle": "2025-09-22T10:09:51.644314Z",
     "shell.execute_reply": "2025-09-22T10:09:51.642840Z"
    },
    "papermill": {
     "duration": 0.469605,
     "end_time": "2025-09-22T10:09:51.646136",
     "exception": false,
     "start_time": "2025-09-22T10:09:51.176531",
     "status": "completed"
    },
    "tags": []
   },
   "outputs": [
    {
     "name": "stdout",
     "output_type": "stream",
     "text": [
      "[LOG] train shape=(8990, 98), test shape=(10, 99)\n",
      "[LOG] is_scored in test? True\n"
     ]
    }
   ],
   "source": [
    "train_path = os.path.join(INPUT_DIR, 'train.csv')\n",
    "test_path  = os.path.join(INPUT_DIR, 'test.csv')\n",
    "\n",
    "train = pd.read_csv(train_path).sort_values('date_id').reset_index(drop=True)\n",
    "test  = pd.read_csv(test_path).sort_values('date_id').reset_index(drop=True)\n",
    "\n",
    "log(f'train shape={train.shape}, test shape={test.shape}')\n",
    "has_is_scored = 'is_scored' in test.columns\n",
    "log(f'is_scored in test? {has_is_scored}')"
   ]
  },
  {
   "cell_type": "code",
   "execution_count": 3,
   "id": "b0345360",
   "metadata": {
    "execution": {
     "iopub.execute_input": "2025-09-22T10:09:51.651881Z",
     "iopub.status.busy": "2025-09-22T10:09:51.651569Z",
     "iopub.status.idle": "2025-09-22T10:09:51.675349Z",
     "shell.execute_reply": "2025-09-22T10:09:51.674334Z"
    },
    "papermill": {
     "duration": 0.02839,
     "end_time": "2025-09-22T10:09:51.676920",
     "exception": false,
     "start_time": "2025-09-22T10:09:51.648530",
     "status": "completed"
    },
    "tags": []
   },
   "outputs": [
    {
     "name": "stdout",
     "output_type": "stream",
     "text": [
      "[LOG] Feature count: 95\n",
      "[LOG] X train shape: (8990, 95)\n"
     ]
    }
   ],
   "source": [
    "common_feats = [c for c in train.columns if c in test.columns and c not in TARGETS]\n",
    "feature_cols = common_feats.copy()\n",
    "log(f'Feature count: {len(feature_cols)}')\n",
    "\n",
    "train2 = train.dropna(subset=[TARGET]).reset_index(drop=True)\n",
    "X = train2[feature_cols]\n",
    "y = train2[TARGET]\n",
    "log(f'X train shape: {X.shape}')"
   ]
  },
  {
   "cell_type": "code",
   "execution_count": 4,
   "id": "9445a515",
   "metadata": {
    "execution": {
     "iopub.execute_input": "2025-09-22T10:09:51.682756Z",
     "iopub.status.busy": "2025-09-22T10:09:51.682481Z",
     "iopub.status.idle": "2025-09-22T10:10:31.171164Z",
     "shell.execute_reply": "2025-09-22T10:10:31.170221Z"
    },
    "papermill": {
     "duration": 39.495175,
     "end_time": "2025-09-22T10:10:31.174414",
     "exception": false,
     "start_time": "2025-09-22T10:09:51.679239",
     "status": "completed"
    },
    "tags": []
   },
   "outputs": [
    {
     "name": "stdout",
     "output_type": "stream",
     "text": [
      "[LOG] Holdout RMSE/MAE: {'ridge': (0.009138127076919871, 0.006478569295320791), 'elasticnet': (0.009148017646183906, 0.006474974665647242), 'rf': (0.008933626798736154, 0.006399406331208841)}\n",
      "[LOG] Chosen model: ridge\n"
     ]
    }
   ],
   "source": [
    "ridge_pipe = Pipeline(steps=[\n",
    "    ('imputer', SimpleImputer(strategy='median')),\n",
    "    ('scaler', StandardScaler(with_mean=False)),\n",
    "    ('model', Ridge(alpha=1.0, random_state=RANDOM_STATE))\n",
    "])\n",
    "\n",
    "en_pipe = Pipeline(steps=[\n",
    "    ('imputer', SimpleImputer(strategy='median')),\n",
    "    ('scaler', StandardScaler(with_mean=False)),\n",
    "    ('model', ElasticNet(alpha=1e-4, l1_ratio=0.1, random_state=RANDOM_STATE, max_iter=10000))\n",
    "])\n",
    "\n",
    "rf_pipe = Pipeline(steps=[\n",
    "    ('imputer', SimpleImputer(strategy='median')),\n",
    "    ('model', RandomForestRegressor(n_estimators=300, max_depth=8, random_state=RANDOM_STATE, n_jobs=-1))\n",
    "])\n",
    "\n",
    "ridge_pipe.fit(X, y)\n",
    "en_pipe.fit(X, y)\n",
    "rf_pipe.fit(X, y)\n",
    "\n",
    "#  time split (95/5)\n",
    "n = len(train2)\n",
    "cut = max(1, int(n*0.95))\n",
    "Xtr, ytr = train2.iloc[:cut][feature_cols], train2.iloc[:cut][TARGET]\n",
    "Xho, yho = train2.iloc[cut:][feature_cols], train2.iloc[cut:][TARGET]\n",
    "\n",
    "def rmse(y, p): \n",
    "    return np.sqrt(mean_squared_error(y, p))\n",
    "def eval_model(m, Xv, yv):\n",
    "    p = m.predict(Xv)\n",
    "    return rmse(yv, p), mean_absolute_error(yv, p)\n",
    "\n",
    "scores = {}\n",
    "for name, m in [('ridge', ridge_pipe), ('elasticnet', en_pipe), ('rf', rf_pipe)]:\n",
    "    r, a = eval_model(m, Xho, yho)\n",
    "    scores[name] = (r, a)\n",
    "log(f'Holdout RMSE/MAE: {scores}')\n",
    "\n",
    "best_model = ridge_pipe if scores['ridge'][0] <= scores['elasticnet'][0] else en_pipe\n",
    "chosen = 'ridge' if best_model is ridge_pipe else 'elasticnet'\n",
    "log(f'Chosen model: {chosen}')"
   ]
  },
  {
   "cell_type": "code",
   "execution_count": 5,
   "id": "8c346a59",
   "metadata": {
    "execution": {
     "iopub.execute_input": "2025-09-22T10:10:31.180621Z",
     "iopub.status.busy": "2025-09-22T10:10:31.179877Z",
     "iopub.status.idle": "2025-09-22T10:10:31.184955Z",
     "shell.execute_reply": "2025-09-22T10:10:31.184017Z"
    },
    "papermill": {
     "duration": 0.009632,
     "end_time": "2025-09-22T10:10:31.186389",
     "exception": false,
     "start_time": "2025-09-22T10:10:31.176757",
     "status": "completed"
    },
    "tags": []
   },
   "outputs": [],
   "source": [
    "trained_cols = feature_cols.copy()\n",
    "\n",
    "def predict(test: pl.DataFrame):\n",
    "    batch = test.to_pandas()\n",
    "\n",
    "    Xb = batch.reindex(columns=trained_cols, fill_value=np.nan)\n",
    "\n",
    "    preds = best_model.predict(Xb)\n",
    "    return pl.DataFrame({'forward_returns': preds})\n"
   ]
  },
  {
   "cell_type": "code",
   "execution_count": 6,
   "id": "a1fb8883",
   "metadata": {
    "execution": {
     "iopub.execute_input": "2025-09-22T10:10:31.192021Z",
     "iopub.status.busy": "2025-09-22T10:10:31.191755Z",
     "iopub.status.idle": "2025-09-22T10:10:31.713331Z",
     "shell.execute_reply": "2025-09-22T10:10:31.712356Z"
    },
    "papermill": {
     "duration": 0.526233,
     "end_time": "2025-09-22T10:10:31.714976",
     "exception": false,
     "start_time": "2025-09-22T10:10:31.188743",
     "status": "completed"
    },
    "tags": []
   },
   "outputs": [],
   "source": [
    "inference_server = kaggle_evaluation.default_inference_server.DefaultInferenceServer(predict)\n",
    "\n",
    "if os.getenv('KAGGLE_IS_COMPETITION_RERUN'):\n",
    "    inference_server.serve()\n",
    "else:\n",
    "    inference_server.run_local_gateway((INPUT_DIR,))\n"
   ]
  },
  {
   "cell_type": "code",
   "execution_count": null,
   "id": "21035d59",
   "metadata": {
    "papermill": {
     "duration": 0.001946,
     "end_time": "2025-09-22T10:10:31.719295",
     "exception": false,
     "start_time": "2025-09-22T10:10:31.717349",
     "status": "completed"
    },
    "tags": []
   },
   "outputs": [],
   "source": []
  }
 ],
 "metadata": {
  "kaggle": {
   "accelerator": "none",
   "dataSources": [
    {
     "databundleVersionId": 13750964,
     "sourceId": 111543,
     "sourceType": "competition"
    }
   ],
   "dockerImageVersionId": 31089,
   "isGpuEnabled": false,
   "isInternetEnabled": false,
   "language": "python",
   "sourceType": "notebook"
  },
  "kernelspec": {
   "display_name": "Python 3",
   "language": "python",
   "name": "python3"
  },
  "language_info": {
   "codemirror_mode": {
    "name": "ipython",
    "version": 3
   },
   "file_extension": ".py",
   "mimetype": "text/x-python",
   "name": "python",
   "nbconvert_exporter": "python",
   "pygments_lexer": "ipython3",
   "version": "3.11.13"
  },
  "papermill": {
   "default_parameters": {},
   "duration": 52.567422,
   "end_time": "2025-09-22T10:10:32.542551",
   "environment_variables": {},
   "exception": null,
   "input_path": "__notebook__.ipynb",
   "output_path": "__notebook__.ipynb",
   "parameters": {},
   "start_time": "2025-09-22T10:09:39.975129",
   "version": "2.6.0"
  }
 },
 "nbformat": 4,
 "nbformat_minor": 5
}
